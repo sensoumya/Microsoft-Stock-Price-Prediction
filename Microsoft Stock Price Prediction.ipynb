{
 "cells": [
  {
   "cell_type": "markdown",
   "metadata": {},
   "source": [
    "# Predicting Microsoft Stock Prices using RNN\n",
    "\n",
    "\n",
    "datasource- Yahoo Finance!"
   ]
  },
  {
   "cell_type": "markdown",
   "metadata": {},
   "source": [
    "### Data Preprocessing\n",
    "\n",
    "Importing the libraries"
   ]
  },
  {
   "cell_type": "code",
   "execution_count": 1,
   "metadata": {},
   "outputs": [],
   "source": [
    "import pandas as pd\n",
    "import numpy as np\n",
    "import matplotlib.pyplot as plt"
   ]
  },
  {
   "cell_type": "markdown",
   "metadata": {},
   "source": [
    "Importing training set"
   ]
  },
  {
   "cell_type": "code",
   "execution_count": 2,
   "metadata": {},
   "outputs": [],
   "source": [
    "df_overall = pd.read_csv('MSFT.csv')"
   ]
  },
  {
   "cell_type": "code",
   "execution_count": 3,
   "metadata": {},
   "outputs": [],
   "source": [
    "df_train = df_overall[df_overall.Date < '2019-03-01']\n",
    "df_test = df_overall[df_overall.Date >= '2019-03-01']"
   ]
  },
  {
   "cell_type": "code",
   "execution_count": 4,
   "metadata": {},
   "outputs": [],
   "source": [
    "train_set = df_train.iloc[:,1:2].values"
   ]
  },
  {
   "cell_type": "markdown",
   "metadata": {},
   "source": [
    "Feature scaling"
   ]
  },
  {
   "cell_type": "code",
   "execution_count": 5,
   "metadata": {},
   "outputs": [],
   "source": [
    "from sklearn.preprocessing import MinMaxScaler\n",
    "sc = MinMaxScaler(feature_range = (0,1))\n",
    "train_set = sc.fit_transform(train_set)"
   ]
  },
  {
   "cell_type": "markdown",
   "metadata": {},
   "source": [
    "Creating a datastructure with 60 timesteps and 1 output"
   ]
  },
  {
   "cell_type": "code",
   "execution_count": 6,
   "metadata": {},
   "outputs": [],
   "source": [
    "x_train = []\n",
    "y_train = []\n",
    "for i in range(60,len(train_set)):\n",
    "    x_train.append(train_set[i-60:i,0])\n",
    "    y_train.append(train_set[i,0])\n",
    "x_train,y_train = np.array(x_train), np.array(y_train)"
   ]
  },
  {
   "cell_type": "code",
   "execution_count": 7,
   "metadata": {},
   "outputs": [],
   "source": [
    "x_train = np.reshape(x_train, (x_train.shape[0], x_train.shape[1], 1))"
   ]
  },
  {
   "cell_type": "markdown",
   "metadata": {},
   "source": [
    "### Bulding RNN\n",
    "Importing libraries"
   ]
  },
  {
   "cell_type": "code",
   "execution_count": 8,
   "metadata": {},
   "outputs": [
    {
     "name": "stderr",
     "output_type": "stream",
     "text": [
      "Using TensorFlow backend.\n"
     ]
    }
   ],
   "source": [
    "from keras.models import Sequential\n",
    "from keras.layers import Dense,LSTM, Dropout"
   ]
  },
  {
   "cell_type": "markdown",
   "metadata": {},
   "source": [
    "Inititalising and the adding 4 LSTM layers"
   ]
  },
  {
   "cell_type": "code",
   "execution_count": 32,
   "metadata": {},
   "outputs": [],
   "source": [
    "reg = Sequential()"
   ]
  },
  {
   "cell_type": "code",
   "execution_count": 33,
   "metadata": {},
   "outputs": [],
   "source": [
    "reg.add(LSTM(units = 50, return_sequences=True, input_shape = (x_train.shape[1],1)))\n",
    "reg.add(Dropout(0.2))\n",
    "reg.add(LSTM(units = 50, return_sequences=True))\n",
    "reg.add(Dropout(0.2))\n",
    "reg.add(LSTM(units = 50, return_sequences=True))\n",
    "reg.add(Dropout(0.2))\n",
    "reg.add(LSTM(units = 50))\n",
    "reg.add(Dropout(0.2))"
   ]
  },
  {
   "cell_type": "markdown",
   "metadata": {},
   "source": [
    "Adding the output layer"
   ]
  },
  {
   "cell_type": "code",
   "execution_count": 34,
   "metadata": {},
   "outputs": [],
   "source": [
    "reg.add(Dense(units=1))"
   ]
  },
  {
   "cell_type": "markdown",
   "metadata": {},
   "source": [
    "Compiling and the fitting RNN to the training set"
   ]
  },
  {
   "cell_type": "code",
   "execution_count": 35,
   "metadata": {},
   "outputs": [],
   "source": [
    "reg.compile(optimizer='adam', loss = 'mean_squared_error')"
   ]
  },
  {
   "cell_type": "code",
   "execution_count": 41,
   "metadata": {},
   "outputs": [
    {
     "name": "stdout",
     "output_type": "stream",
     "text": [
      "Epoch 1/200\n",
      "4760/4760 [==============================] - 13s 3ms/step - loss: 3.4408e-04\n",
      "Epoch 2/200\n",
      "4760/4760 [==============================] - 13s 3ms/step - loss: 3.3115e-04\n",
      "Epoch 3/200\n",
      "4760/4760 [==============================] - 13s 3ms/step - loss: 3.4284e-04\n",
      "Epoch 4/200\n",
      "4760/4760 [==============================] - 13s 3ms/step - loss: 4.0444e-04\n",
      "Epoch 5/200\n",
      "4760/4760 [==============================] - 13s 3ms/step - loss: 3.6512e-04\n",
      "Epoch 6/200\n",
      "4760/4760 [==============================] - 13s 3ms/step - loss: 3.3426e-04\n",
      "Epoch 7/200\n",
      "4760/4760 [==============================] - 13s 3ms/step - loss: 3.3076e-04\n",
      "Epoch 8/200\n",
      "4760/4760 [==============================] - 13s 3ms/step - loss: 3.4037e-04\n",
      "Epoch 9/200\n",
      "4760/4760 [==============================] - 13s 3ms/step - loss: 3.5021e-04\n",
      "Epoch 10/200\n",
      "4760/4760 [==============================] - 14s 3ms/step - loss: 3.3184e-04\n",
      "Epoch 11/200\n",
      "4760/4760 [==============================] - 13s 3ms/step - loss: 3.6460e-04\n",
      "Epoch 12/200\n",
      "4760/4760 [==============================] - 13s 3ms/step - loss: 3.2313e-04\n",
      "Epoch 13/200\n",
      "4760/4760 [==============================] - 13s 3ms/step - loss: 3.3065e-04\n",
      "Epoch 14/200\n",
      "4760/4760 [==============================] - 13s 3ms/step - loss: 3.4208e-04\n",
      "Epoch 15/200\n",
      "4760/4760 [==============================] - 13s 3ms/step - loss: 3.4172e-04\n",
      "Epoch 16/200\n",
      "4760/4760 [==============================] - 13s 3ms/step - loss: 3.5534e-04\n",
      "Epoch 17/200\n",
      "4760/4760 [==============================] - 13s 3ms/step - loss: 3.5464e-04\n",
      "Epoch 18/200\n",
      "4760/4760 [==============================] - 13s 3ms/step - loss: 3.1063e-04\n",
      "Epoch 19/200\n",
      "4760/4760 [==============================] - 13s 3ms/step - loss: 3.3344e-04\n",
      "Epoch 20/200\n",
      "4760/4760 [==============================] - 13s 3ms/step - loss: 3.5897e-04\n",
      "Epoch 21/200\n",
      "4760/4760 [==============================] - 13s 3ms/step - loss: 3.6535e-04\n",
      "Epoch 22/200\n",
      "4760/4760 [==============================] - 13s 3ms/step - loss: 3.7400e-04\n",
      "Epoch 23/200\n",
      "4760/4760 [==============================] - 13s 3ms/step - loss: 3.5684e-04\n",
      "Epoch 24/200\n",
      "4760/4760 [==============================] - 13s 3ms/step - loss: 3.7781e-04\n",
      "Epoch 25/200\n",
      "4760/4760 [==============================] - 13s 3ms/step - loss: 3.7349e-04\n",
      "Epoch 26/200\n",
      "4760/4760 [==============================] - 13s 3ms/step - loss: 3.1889e-04\n",
      "Epoch 27/200\n",
      "4760/4760 [==============================] - 14s 3ms/step - loss: 3.6448e-04\n",
      "Epoch 28/200\n",
      "4760/4760 [==============================] - 13s 3ms/step - loss: 3.3574e-04\n",
      "Epoch 29/200\n",
      "4760/4760 [==============================] - 13s 3ms/step - loss: 3.6722e-04\n",
      "Epoch 30/200\n",
      "4760/4760 [==============================] - 13s 3ms/step - loss: 3.3220e-04\n",
      "Epoch 31/200\n",
      "4760/4760 [==============================] - 13s 3ms/step - loss: 3.3535e-04\n",
      "Epoch 32/200\n",
      "4760/4760 [==============================] - 13s 3ms/step - loss: 3.3154e-04\n",
      "Epoch 33/200\n",
      "4760/4760 [==============================] - 13s 3ms/step - loss: 3.4347e-04\n",
      "Epoch 34/200\n",
      "4760/4760 [==============================] - 13s 3ms/step - loss: 3.3698e-04\n",
      "Epoch 35/200\n",
      "4760/4760 [==============================] - 13s 3ms/step - loss: 3.0374e-04\n",
      "Epoch 36/200\n",
      "4760/4760 [==============================] - 13s 3ms/step - loss: 3.1484e-04\n",
      "Epoch 37/200\n",
      "4760/4760 [==============================] - 13s 3ms/step - loss: 3.4830e-04\n",
      "Epoch 38/200\n",
      "4760/4760 [==============================] - 13s 3ms/step - loss: 3.4861e-04\n",
      "Epoch 39/200\n",
      "4760/4760 [==============================] - 13s 3ms/step - loss: 3.3618e-04\n",
      "Epoch 40/200\n",
      "4760/4760 [==============================] - 13s 3ms/step - loss: 3.3675e-04\n",
      "Epoch 41/200\n",
      "4760/4760 [==============================] - 13s 3ms/step - loss: 3.2931e-04\n",
      "Epoch 42/200\n",
      "4760/4760 [==============================] - ETA: 0s - loss: 3.2374e-0 - 13s 3ms/step - loss: 3.2285e-04\n",
      "Epoch 43/200\n",
      "4760/4760 [==============================] - 13s 3ms/step - loss: 3.5002e-04\n",
      "Epoch 44/200\n",
      "4760/4760 [==============================] - 13s 3ms/step - loss: 3.3597e-04\n",
      "Epoch 45/200\n",
      "4760/4760 [==============================] - 13s 3ms/step - loss: 3.5760e-04\n",
      "Epoch 46/200\n",
      "4760/4760 [==============================] - 13s 3ms/step - loss: 3.1905e-04\n",
      "Epoch 47/200\n",
      "4760/4760 [==============================] - 13s 3ms/step - loss: 3.4669e-04\n",
      "Epoch 48/200\n",
      "4760/4760 [==============================] - 13s 3ms/step - loss: 3.3331e-04\n",
      "Epoch 49/200\n",
      "4760/4760 [==============================] - 13s 3ms/step - loss: 3.6185e-04\n",
      "Epoch 50/200\n",
      "4760/4760 [==============================] - 13s 3ms/step - loss: 3.5541e-04\n",
      "Epoch 51/200\n",
      "4760/4760 [==============================] - 13s 3ms/step - loss: 3.5657e-04\n",
      "Epoch 52/200\n",
      "4760/4760 [==============================] - 14s 3ms/step - loss: 3.1302e-04\n",
      "Epoch 53/200\n",
      "4760/4760 [==============================] - 13s 3ms/step - loss: 3.3096e-04\n",
      "Epoch 54/200\n",
      "4760/4760 [==============================] - 13s 3ms/step - loss: 3.6419e-04\n",
      "Epoch 55/200\n",
      "4760/4760 [==============================] - 13s 3ms/step - loss: 3.9530e-04\n",
      "Epoch 56/200\n",
      "4760/4760 [==============================] - 13s 3ms/step - loss: 3.4851e-04\n",
      "Epoch 57/200\n",
      "4760/4760 [==============================] - 13s 3ms/step - loss: 3.7899e-04\n",
      "Epoch 58/200\n",
      "4760/4760 [==============================] - 13s 3ms/step - loss: 3.2452e-04\n",
      "Epoch 59/200\n",
      "4760/4760 [==============================] - 13s 3ms/step - loss: 3.4661e-04\n",
      "Epoch 60/200\n",
      "4760/4760 [==============================] - 13s 3ms/step - loss: 3.3317e-04\n",
      "Epoch 61/200\n",
      "4760/4760 [==============================] - 13s 3ms/step - loss: 3.3671e-04\n",
      "Epoch 62/200\n",
      "4760/4760 [==============================] - 13s 3ms/step - loss: 3.5935e-04\n",
      "Epoch 63/200\n",
      "4760/4760 [==============================] - 13s 3ms/step - loss: 2.9103e-04\n",
      "Epoch 64/200\n",
      "4760/4760 [==============================] - 13s 3ms/step - loss: 3.5322e-04\n",
      "Epoch 65/200\n",
      "4760/4760 [==============================] - 13s 3ms/step - loss: 2.9901e-04\n",
      "Epoch 66/200\n",
      "4760/4760 [==============================] - 13s 3ms/step - loss: 3.1668e-04\n",
      "Epoch 67/200\n",
      "4760/4760 [==============================] - 13s 3ms/step - loss: 3.9069e-04\n",
      "Epoch 68/200\n",
      "4760/4760 [==============================] - 13s 3ms/step - loss: 3.3903e-04\n",
      "Epoch 69/200\n",
      "4760/4760 [==============================] - 13s 3ms/step - loss: 3.5339e-04\n",
      "Epoch 70/200\n",
      "4760/4760 [==============================] - 13s 3ms/step - loss: 3.2326e-04\n",
      "Epoch 71/200\n",
      "4760/4760 [==============================] - 13s 3ms/step - loss: 3.5267e-04\n",
      "Epoch 72/200\n",
      "4760/4760 [==============================] - 13s 3ms/step - loss: 3.3212e-04\n",
      "Epoch 73/200\n",
      "4760/4760 [==============================] - 13s 3ms/step - loss: 3.0279e-04\n",
      "Epoch 74/200\n",
      "4760/4760 [==============================] - 13s 3ms/step - loss: 3.3457e-04\n",
      "Epoch 75/200\n",
      "4760/4760 [==============================] - 14s 3ms/step - loss: 3.5505e-04\n",
      "Epoch 76/200\n",
      "4760/4760 [==============================] - 13s 3ms/step - loss: 3.2546e-04\n",
      "Epoch 77/200\n",
      "4760/4760 [==============================] - 13s 3ms/step - loss: 3.3466e-04\n",
      "Epoch 78/200\n",
      "4760/4760 [==============================] - 13s 3ms/step - loss: 3.6085e-04\n",
      "Epoch 79/200\n",
      "4760/4760 [==============================] - 14s 3ms/step - loss: 3.4986e-04\n",
      "Epoch 80/200\n",
      "4760/4760 [==============================] - 14s 3ms/step - loss: 3.5538e-04\n",
      "Epoch 81/200\n",
      "4760/4760 [==============================] - 13s 3ms/step - loss: 3.0400e-04\n",
      "Epoch 82/200\n",
      "4760/4760 [==============================] - 13s 3ms/step - loss: 3.2727e-04\n",
      "Epoch 83/200\n",
      "4760/4760 [==============================] - 13s 3ms/step - loss: 3.0657e-04\n",
      "Epoch 84/200\n",
      "4760/4760 [==============================] - 13s 3ms/step - loss: 3.2342e-04\n",
      "Epoch 85/200\n",
      "4760/4760 [==============================] - 13s 3ms/step - loss: 3.1241e-04\n",
      "Epoch 86/200\n",
      "4760/4760 [==============================] - 13s 3ms/step - loss: 3.4719e-04\n",
      "Epoch 87/200\n",
      "4760/4760 [==============================] - 13s 3ms/step - loss: 3.3101e-04\n",
      "Epoch 88/200\n",
      "4760/4760 [==============================] - 13s 3ms/step - loss: 3.3665e-04\n",
      "Epoch 89/200\n",
      "4760/4760 [==============================] - 13s 3ms/step - loss: 3.3287e-04\n",
      "Epoch 90/200\n",
      "4760/4760 [==============================] - 13s 3ms/step - loss: 3.1838e-04\n",
      "Epoch 91/200\n"
     ]
    },
    {
     "name": "stdout",
     "output_type": "stream",
     "text": [
      "4760/4760 [==============================] - 13s 3ms/step - loss: 3.2400e-04\n",
      "Epoch 92/200\n",
      "4760/4760 [==============================] - 13s 3ms/step - loss: 3.4952e-04\n",
      "Epoch 93/200\n",
      "4760/4760 [==============================] - 14s 3ms/step - loss: 3.4110e-04\n",
      "Epoch 94/200\n",
      "4760/4760 [==============================] - 15s 3ms/step - loss: 3.3080e-04\n",
      "Epoch 95/200\n",
      "4760/4760 [==============================] - 13s 3ms/step - loss: 4.0877e-04\n",
      "Epoch 96/200\n",
      "4760/4760 [==============================] - 15s 3ms/step - loss: 3.2917e-04\n",
      "Epoch 97/200\n",
      "4760/4760 [==============================] - 16s 3ms/step - loss: 3.7308e-04\n",
      "Epoch 98/200\n",
      "4760/4760 [==============================] - 16s 3ms/step - loss: 3.2430e-04\n",
      "Epoch 99/200\n",
      "4760/4760 [==============================] - 15s 3ms/step - loss: 3.4335e-04\n",
      "Epoch 100/200\n",
      "4760/4760 [==============================] - 14s 3ms/step - loss: 2.9710e-04\n",
      "Epoch 101/200\n",
      "4760/4760 [==============================] - 15s 3ms/step - loss: 3.4226e-04\n",
      "Epoch 102/200\n",
      "4760/4760 [==============================] - 14s 3ms/step - loss: 3.1363e-04\n",
      "Epoch 103/200\n",
      "4760/4760 [==============================] - 14s 3ms/step - loss: 3.1240e-04\n",
      "Epoch 104/200\n",
      "4760/4760 [==============================] - 14s 3ms/step - loss: 3.6281e-04\n",
      "Epoch 105/200\n",
      "4760/4760 [==============================] - 16s 3ms/step - loss: 3.1039e-04\n",
      "Epoch 106/200\n",
      "4760/4760 [==============================] - 14s 3ms/step - loss: 3.1023e-04\n",
      "Epoch 107/200\n",
      "4760/4760 [==============================] - 14s 3ms/step - loss: 3.9299e-04\n",
      "Epoch 108/200\n",
      "4760/4760 [==============================] - 14s 3ms/step - loss: 3.0478e-04\n",
      "Epoch 109/200\n",
      "4760/4760 [==============================] - 15s 3ms/step - loss: 3.5324e-04\n",
      "Epoch 110/200\n",
      "4760/4760 [==============================] - 14s 3ms/step - loss: 3.0929e-04\n",
      "Epoch 111/200\n",
      "4760/4760 [==============================] - 14s 3ms/step - loss: 3.4085e-04\n",
      "Epoch 112/200\n",
      "4760/4760 [==============================] - 14s 3ms/step - loss: 3.4891e-04\n",
      "Epoch 113/200\n",
      "4760/4760 [==============================] - 17s 4ms/step - loss: 3.3930e-04\n",
      "Epoch 114/200\n",
      "4760/4760 [==============================] - 16s 3ms/step - loss: 3.5183e-04\n",
      "Epoch 115/200\n",
      "4760/4760 [==============================] - 14s 3ms/step - loss: 3.4291e-04\n",
      "Epoch 116/200\n",
      "4760/4760 [==============================] - 13s 3ms/step - loss: 3.8941e-04\n",
      "Epoch 117/200\n",
      "4760/4760 [==============================] - 17s 4ms/step - loss: 3.0388e-04\n",
      "Epoch 118/200\n",
      "4760/4760 [==============================] - 15s 3ms/step - loss: 3.1401e-04\n",
      "Epoch 119/200\n",
      "4760/4760 [==============================] - 17s 4ms/step - loss: 3.2086e-04\n",
      "Epoch 120/200\n",
      "4760/4760 [==============================] - 16s 3ms/step - loss: 3.4407e-04\n",
      "Epoch 121/200\n",
      "4760/4760 [==============================] - 15s 3ms/step - loss: 3.1999e-04\n",
      "Epoch 122/200\n",
      "4760/4760 [==============================] - 14s 3ms/step - loss: 3.4713e-04\n",
      "Epoch 123/200\n",
      "4760/4760 [==============================] - 15s 3ms/step - loss: 3.4237e-04\n",
      "Epoch 124/200\n",
      "4760/4760 [==============================] - 15s 3ms/step - loss: 3.3224e-04\n",
      "Epoch 125/200\n",
      "4760/4760 [==============================] - 16s 3ms/step - loss: 3.5742e-04\n",
      "Epoch 126/200\n",
      "4760/4760 [==============================] - 13s 3ms/step - loss: 3.1550e-04\n",
      "Epoch 127/200\n",
      "4760/4760 [==============================] - 13s 3ms/step - loss: 3.2822e-04\n",
      "Epoch 128/200\n",
      "4760/4760 [==============================] - 13s 3ms/step - loss: 3.4285e-04\n",
      "Epoch 129/200\n",
      "4760/4760 [==============================] - 14s 3ms/step - loss: 3.6448e-04\n",
      "Epoch 130/200\n",
      "4760/4760 [==============================] - 14s 3ms/step - loss: 2.9811e-04\n",
      "Epoch 131/200\n",
      "4760/4760 [==============================] - 14s 3ms/step - loss: 3.4959e-04\n",
      "Epoch 132/200\n",
      "4760/4760 [==============================] - 13s 3ms/step - loss: 3.0797e-04\n",
      "Epoch 133/200\n",
      "4760/4760 [==============================] - 13s 3ms/step - loss: 3.2538e-04\n",
      "Epoch 134/200\n",
      "4760/4760 [==============================] - 13s 3ms/step - loss: 3.6404e-04\n",
      "Epoch 135/200\n",
      "4760/4760 [==============================] - 13s 3ms/step - loss: 3.3047e-04\n",
      "Epoch 136/200\n",
      "4760/4760 [==============================] - 13s 3ms/step - loss: 3.1587e-04\n",
      "Epoch 137/200\n",
      "4760/4760 [==============================] - 13s 3ms/step - loss: 3.3096e-04\n",
      "Epoch 138/200\n",
      "4760/4760 [==============================] - 13s 3ms/step - loss: 3.5109e-04\n",
      "Epoch 139/200\n",
      "4760/4760 [==============================] - 14s 3ms/step - loss: 3.5275e-04\n",
      "Epoch 140/200\n",
      "4760/4760 [==============================] - 13s 3ms/step - loss: 3.2015e-04\n",
      "Epoch 141/200\n",
      "4760/4760 [==============================] - 18s 4ms/step - loss: 3.9262e-04\n",
      "Epoch 142/200\n",
      "4760/4760 [==============================] - 16s 3ms/step - loss: 3.2128e-04\n",
      "Epoch 143/200\n",
      "4760/4760 [==============================] - 15s 3ms/step - loss: 3.3106e-04\n",
      "Epoch 144/200\n",
      "4760/4760 [==============================] - 31s 6ms/step - loss: 3.3119e-04\n",
      "Epoch 145/200\n",
      "4760/4760 [==============================] - 34s 7ms/step - loss: 3.3923e-04\n",
      "Epoch 146/200\n",
      "4760/4760 [==============================] - 31s 7ms/step - loss: 3.6033e-04\n",
      "Epoch 147/200\n",
      "4760/4760 [==============================] - 34s 7ms/step - loss: 3.4796e-04\n",
      "Epoch 148/200\n",
      "4760/4760 [==============================] - 32s 7ms/step - loss: 3.2013e-04\n",
      "Epoch 149/200\n",
      "4760/4760 [==============================] - 39s 8ms/step - loss: 3.8282e-04\n",
      "Epoch 150/200\n",
      "4760/4760 [==============================] - 41s 9ms/step - loss: 3.4279e-04\n",
      "Epoch 151/200\n",
      "4760/4760 [==============================] - 35s 7ms/step - loss: 3.8474e-04\n",
      "Epoch 152/200\n",
      "4760/4760 [==============================] - 36s 8ms/step - loss: 3.7365e-04\n",
      "Epoch 153/200\n",
      "4760/4760 [==============================] - 38s 8ms/step - loss: 3.2102e-04\n",
      "Epoch 154/200\n",
      "4760/4760 [==============================] - 35s 7ms/step - loss: 3.0942e-04\n",
      "Epoch 155/200\n",
      "4760/4760 [==============================] - 34s 7ms/step - loss: 3.6653e-04\n",
      "Epoch 156/200\n",
      "4760/4760 [==============================] - 35s 7ms/step - loss: 3.5226e-04\n",
      "Epoch 157/200\n",
      "4760/4760 [==============================] - 27s 6ms/step - loss: 3.4335e-04\n",
      "Epoch 158/200\n",
      "4760/4760 [==============================] - 28s 6ms/step - loss: 3.2591e-04\n",
      "Epoch 159/200\n",
      "4760/4760 [==============================] - 33s 7ms/step - loss: 3.0464e-04\n",
      "Epoch 160/200\n",
      "4760/4760 [==============================] - 31s 6ms/step - loss: 3.4572e-04\n",
      "Epoch 161/200\n",
      "4760/4760 [==============================] - 21s 4ms/step - loss: 3.4013e-04\n",
      "Epoch 162/200\n",
      "4760/4760 [==============================] - 20s 4ms/step - loss: 2.9980e-04\n",
      "Epoch 163/200\n",
      "4760/4760 [==============================] - 19s 4ms/step - loss: 3.0065e-04\n",
      "Epoch 164/200\n",
      "4760/4760 [==============================] - 21s 4ms/step - loss: 3.8269e-04\n",
      "Epoch 165/200\n",
      "4760/4760 [==============================] - 19s 4ms/step - loss: 3.2655e-04\n",
      "Epoch 166/200\n",
      "4760/4760 [==============================] - 19s 4ms/step - loss: 3.2253e-04\n",
      "Epoch 167/200\n",
      "4760/4760 [==============================] - 20s 4ms/step - loss: 3.4701e-04\n",
      "Epoch 168/200\n",
      "4760/4760 [==============================] - 19s 4ms/step - loss: 3.2523e-04\n",
      "Epoch 169/200\n",
      "4760/4760 [==============================] - 20s 4ms/step - loss: 3.4158e-04\n",
      "Epoch 170/200\n",
      "4760/4760 [==============================] - 20s 4ms/step - loss: 3.7104e-04\n",
      "Epoch 171/200\n",
      "4760/4760 [==============================] - 19s 4ms/step - loss: 3.5307e-04\n",
      "Epoch 172/200\n",
      "4760/4760 [==============================] - 20s 4ms/step - loss: 3.6251e-04\n",
      "Epoch 173/200\n",
      "4760/4760 [==============================] - 22s 5ms/step - loss: 4.2975e-04\n",
      "Epoch 174/200\n",
      "4760/4760 [==============================] - 20s 4ms/step - loss: 3.3428e-04\n",
      "Epoch 175/200\n",
      "4760/4760 [==============================] - 15s 3ms/step - loss: 3.3125e-04\n",
      "Epoch 176/200\n",
      "4760/4760 [==============================] - 23s 5ms/step - loss: 3.5420e-04\n",
      "Epoch 177/200\n",
      "4760/4760 [==============================] - 19s 4ms/step - loss: 3.5411e-04\n",
      "Epoch 178/200\n",
      "4760/4760 [==============================] - 14s 3ms/step - loss: 3.2879e-04\n",
      "Epoch 179/200\n",
      "4760/4760 [==============================] - 19s 4ms/step - loss: 3.1699e-04\n",
      "Epoch 180/200\n",
      "4760/4760 [==============================] - 20s 4ms/step - loss: 3.6260e-04\n",
      "Epoch 181/200\n"
     ]
    },
    {
     "name": "stdout",
     "output_type": "stream",
     "text": [
      "4760/4760 [==============================] - 19s 4ms/step - loss: 3.2656e-04\n",
      "Epoch 182/200\n",
      "4760/4760 [==============================] - 19s 4ms/step - loss: 3.2196e-04\n",
      "Epoch 183/200\n",
      "4760/4760 [==============================] - 20s 4ms/step - loss: 3.5736e-04\n",
      "Epoch 184/200\n",
      "4760/4760 [==============================] - 18s 4ms/step - loss: 3.1417e-04\n",
      "Epoch 185/200\n",
      "4760/4760 [==============================] - 20s 4ms/step - loss: 3.2781e-04\n",
      "Epoch 186/200\n",
      "4760/4760 [==============================] - 19s 4ms/step - loss: 3.0224e-04\n",
      "Epoch 187/200\n",
      "4760/4760 [==============================] - 21s 4ms/step - loss: 3.3273e-04\n",
      "Epoch 188/200\n",
      "4760/4760 [==============================] - 19s 4ms/step - loss: 3.0705e-04\n",
      "Epoch 189/200\n",
      "4760/4760 [==============================] - 16s 3ms/step - loss: 3.2651e-04\n",
      "Epoch 190/200\n",
      "4760/4760 [==============================] - 13s 3ms/step - loss: 3.4006e-04\n",
      "Epoch 191/200\n",
      "4760/4760 [==============================] - 14s 3ms/step - loss: 3.1805e-04\n",
      "Epoch 192/200\n",
      "4760/4760 [==============================] - 14s 3ms/step - loss: 3.6275e-04\n",
      "Epoch 193/200\n",
      "4760/4760 [==============================] - 16s 3ms/step - loss: 3.0827e-04\n",
      "Epoch 194/200\n",
      "4760/4760 [==============================] - 14s 3ms/step - loss: 3.4935e-04\n",
      "Epoch 195/200\n",
      "4760/4760 [==============================] - 15s 3ms/step - loss: 3.1843e-04\n",
      "Epoch 196/200\n",
      "4760/4760 [==============================] - 14s 3ms/step - loss: 3.2108e-04\n",
      "Epoch 197/200\n",
      "4760/4760 [==============================] - 17s 3ms/step - loss: 3.6687e-04\n",
      "Epoch 198/200\n",
      "4760/4760 [==============================] - 20s 4ms/step - loss: 3.4577e-04\n",
      "Epoch 199/200\n",
      "4760/4760 [==============================] - 21s 4ms/step - loss: 3.4123e-04\n",
      "Epoch 200/200\n",
      "4760/4760 [==============================] - 22s 5ms/step - loss: 3.2558e-04\n"
     ]
    },
    {
     "data": {
      "text/plain": [
       "<keras.callbacks.History at 0x1cc9dcf8>"
      ]
     },
     "execution_count": 41,
     "metadata": {},
     "output_type": "execute_result"
    }
   ],
   "source": [
    "reg.fit(x_train, y_train, epochs=200, batch_size=128)"
   ]
  },
  {
   "cell_type": "markdown",
   "metadata": {},
   "source": [
    "### Making Predictions and visualising the results\n",
    "Getting real stock price"
   ]
  },
  {
   "cell_type": "code",
   "execution_count": 42,
   "metadata": {},
   "outputs": [],
   "source": [
    "real_price = df_test.iloc[:,1:2].values"
   ]
  },
  {
   "cell_type": "markdown",
   "metadata": {},
   "source": [
    "Getting the predicted stock prices"
   ]
  },
  {
   "cell_type": "code",
   "execution_count": 43,
   "metadata": {},
   "outputs": [],
   "source": [
    "df_total = pd.concat((df_train.Open, df_test.Open), axis = 0)\n",
    "inputs = df_total[len(df_total)-len(df_test)-60:].values\n",
    "inputs = inputs.reshape(-1,1)\n",
    "inputs = sc.transform(inputs)\n",
    "x_test = []\n",
    "for i in range(60,100):\n",
    "    x_test.append(inputs[i-60:i,0])\n",
    "x_test = np.array(x_test)\n",
    "x_test = np.reshape(x_test,(x_test.shape[0],x_test.shape[1],1))\n",
    "pred_price = reg.predict(x_test)\n",
    "pred_price = sc.inverse_transform(pred_price)"
   ]
  },
  {
   "cell_type": "markdown",
   "metadata": {},
   "source": [
    "Visualising the results"
   ]
  },
  {
   "cell_type": "code",
   "execution_count": 44,
   "metadata": {},
   "outputs": [
    {
     "data": {
      "text/plain": [
       "<matplotlib.legend.Legend at 0x1fc9ac88>"
      ]
     },
     "execution_count": 44,
     "metadata": {},
     "output_type": "execute_result"
    },
    {
     "data": {
      "image/png": "[encoded data removed]",
      "text/plain": [
       "<Figure size 864x432 with 1 Axes>"
      ]
     },
     "metadata": {
      "needs_background": "light"
     },
     "output_type": "display_data"
    }
   ],
   "source": [
    "plt.figure(figsize=(12,6))\n",
    "plt.plot(real_price, label = 'Real Price')\n",
    "plt.plot(pred_price, label = 'Pred Price')\n",
    "plt.xlabel('Time', size=12)\n",
    "plt.ylabel('Google stock prices', size=12)\n",
    "plt.title('Google stock price prediction',size=15)\n",
    "plt.legend()"
   ]
  }
 ],
 "metadata": {
  "kernelspec": {
   "display_name": "Python 3",
   "language": "python",
   "name": "python3"
  },
  "language_info": {
   "codemirror_mode": {
    "name": "ipython",
    "version": 3
   },
   "file_extension": ".py",
   "mimetype": "text/x-python",
   "name": "python",
   "nbconvert_exporter": "python",
   "pygments_lexer": "ipython3",
   "version": "3.7.3"
  }
 },
 "nbformat": 4,
 "nbformat_minor": 2
}
